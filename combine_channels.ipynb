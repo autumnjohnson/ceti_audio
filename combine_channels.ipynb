{
 "cells": [
  {
   "cell_type": "markdown",
   "metadata": {},
   "source": [
    "# Combining Project CETI audio channels"
   ]
  },
  {
   "cell_type": "markdown",
   "metadata": {},
   "source": [
    "## Install dependencies"
   ]
  },
  {
   "cell_type": "code",
   "execution_count": 10,
   "metadata": {},
   "outputs": [
    {
     "name": "stdout",
     "output_type": "stream",
     "text": [
      "Requirement already satisfied: datasets in /home/autumn/miniconda3/envs/py36/lib/python3.8/site-packages (from -r requirements.txt (line 1)) (2.15.0)\n",
      "Requirement already satisfied: IPython in /home/autumn/miniconda3/envs/py36/lib/python3.8/site-packages (from -r requirements.txt (line 2)) (8.12.2)\n",
      "Requirement already satisfied: matplotlib in /home/autumn/miniconda3/envs/py36/lib/python3.8/site-packages (from -r requirements.txt (line 3)) (3.7.4)\n",
      "Requirement already satisfied: numpy in /home/autumn/miniconda3/envs/py36/lib/python3.8/site-packages (from -r requirements.txt (line 4)) (1.24.4)\n",
      "Requirement already satisfied: pandas in /home/autumn/miniconda3/envs/py36/lib/python3.8/site-packages (from -r requirements.txt (line 5)) (2.0.3)\n",
      "Requirement already satisfied: pydub in /home/autumn/miniconda3/envs/py36/lib/python3.8/site-packages (from -r requirements.txt (line 6)) (0.25.1)\n",
      "Requirement already satisfied: Requests in /home/autumn/miniconda3/envs/py36/lib/python3.8/site-packages (from -r requirements.txt (line 7)) (2.31.0)\n",
      "Requirement already satisfied: scikit_learn in /home/autumn/miniconda3/envs/py36/lib/python3.8/site-packages (from -r requirements.txt (line 8)) (1.3.2)\n",
      "Requirement already satisfied: soundfile in /home/autumn/miniconda3/envs/py36/lib/python3.8/site-packages (from -r requirements.txt (line 9)) (0.12.1)\n",
      "Requirement already satisfied: torch in /home/autumn/miniconda3/envs/py36/lib/python3.8/site-packages (from -r requirements.txt (line 10)) (2.1.2)\n",
      "Requirement already satisfied: tqdm in /home/autumn/miniconda3/envs/py36/lib/python3.8/site-packages (from -r requirements.txt (line 11)) (4.66.1)\n",
      "Requirement already satisfied: ffmpeg-python in /home/autumn/miniconda3/envs/py36/lib/python3.8/site-packages (from -r requirements.txt (line 12)) (0.2.0)\n",
      "Requirement already satisfied: pyflac in /home/autumn/miniconda3/envs/py36/lib/python3.8/site-packages (from -r requirements.txt (line 13)) (2.2.0)\n",
      "Requirement already satisfied: nbconvert in /home/autumn/miniconda3/envs/py36/lib/python3.8/site-packages (from -r requirements.txt (line 14)) (7.13.0)\n",
      "Requirement already satisfied: sox in /home/autumn/miniconda3/envs/py36/lib/python3.8/site-packages (from -r requirements.txt (line 15)) (1.4.1)\n",
      "Requirement already satisfied: graphviz in /home/autumn/miniconda3/envs/py36/lib/python3.8/site-packages (from -r requirements.txt (line 16)) (0.20.1)\n",
      "Requirement already satisfied: pyarrow>=8.0.0 in /home/autumn/miniconda3/envs/py36/lib/python3.8/site-packages (from datasets->-r requirements.txt (line 1)) (14.0.1)\n",
      "Requirement already satisfied: pyarrow-hotfix in /home/autumn/miniconda3/envs/py36/lib/python3.8/site-packages (from datasets->-r requirements.txt (line 1)) (0.6)\n",
      "Requirement already satisfied: dill<0.3.8,>=0.3.0 in /home/autumn/miniconda3/envs/py36/lib/python3.8/site-packages (from datasets->-r requirements.txt (line 1)) (0.3.7)\n",
      "Requirement already satisfied: xxhash in /home/autumn/miniconda3/envs/py36/lib/python3.8/site-packages (from datasets->-r requirements.txt (line 1)) (3.4.1)\n",
      "Requirement already satisfied: multiprocess in /home/autumn/miniconda3/envs/py36/lib/python3.8/site-packages (from datasets->-r requirements.txt (line 1)) (0.70.15)\n",
      "Requirement already satisfied: fsspec<=2023.10.0,>=2023.1.0 in /home/autumn/miniconda3/envs/py36/lib/python3.8/site-packages (from fsspec[http]<=2023.10.0,>=2023.1.0->datasets->-r requirements.txt (line 1)) (2023.10.0)\n",
      "Requirement already satisfied: aiohttp in /home/autumn/miniconda3/envs/py36/lib/python3.8/site-packages (from datasets->-r requirements.txt (line 1)) (3.9.1)\n",
      "Requirement already satisfied: huggingface-hub>=0.18.0 in /home/autumn/miniconda3/envs/py36/lib/python3.8/site-packages (from datasets->-r requirements.txt (line 1)) (0.19.4)\n",
      "Requirement already satisfied: packaging in /home/autumn/miniconda3/envs/py36/lib/python3.8/site-packages (from datasets->-r requirements.txt (line 1)) (23.2)\n",
      "Requirement already satisfied: pyyaml>=5.1 in /home/autumn/miniconda3/envs/py36/lib/python3.8/site-packages (from datasets->-r requirements.txt (line 1)) (6.0.1)\n",
      "Requirement already satisfied: backcall in /home/autumn/miniconda3/envs/py36/lib/python3.8/site-packages (from IPython->-r requirements.txt (line 2)) (0.2.0)\n",
      "Requirement already satisfied: decorator in /home/autumn/miniconda3/envs/py36/lib/python3.8/site-packages (from IPython->-r requirements.txt (line 2)) (5.1.1)\n",
      "Requirement already satisfied: jedi>=0.16 in /home/autumn/miniconda3/envs/py36/lib/python3.8/site-packages (from IPython->-r requirements.txt (line 2)) (0.19.1)\n",
      "Requirement already satisfied: matplotlib-inline in /home/autumn/miniconda3/envs/py36/lib/python3.8/site-packages (from IPython->-r requirements.txt (line 2)) (0.1.6)\n",
      "Requirement already satisfied: pickleshare in /home/autumn/miniconda3/envs/py36/lib/python3.8/site-packages (from IPython->-r requirements.txt (line 2)) (0.7.5)\n",
      "Requirement already satisfied: prompt-toolkit!=3.0.37,<3.1.0,>=3.0.30 in /home/autumn/miniconda3/envs/py36/lib/python3.8/site-packages (from IPython->-r requirements.txt (line 2)) (3.0.42)\n",
      "Requirement already satisfied: pygments>=2.4.0 in /home/autumn/miniconda3/envs/py36/lib/python3.8/site-packages (from IPython->-r requirements.txt (line 2)) (2.17.2)\n",
      "Requirement already satisfied: stack-data in /home/autumn/miniconda3/envs/py36/lib/python3.8/site-packages (from IPython->-r requirements.txt (line 2)) (0.6.2)\n",
      "Requirement already satisfied: traitlets>=5 in /home/autumn/miniconda3/envs/py36/lib/python3.8/site-packages (from IPython->-r requirements.txt (line 2)) (5.14.0)\n",
      "Requirement already satisfied: typing-extensions in /home/autumn/miniconda3/envs/py36/lib/python3.8/site-packages (from IPython->-r requirements.txt (line 2)) (4.9.0)\n",
      "Requirement already satisfied: pexpect>4.3 in /home/autumn/miniconda3/envs/py36/lib/python3.8/site-packages (from IPython->-r requirements.txt (line 2)) (4.8.0)\n",
      "Requirement already satisfied: contourpy>=1.0.1 in /home/autumn/miniconda3/envs/py36/lib/python3.8/site-packages (from matplotlib->-r requirements.txt (line 3)) (1.1.1)\n",
      "Requirement already satisfied: cycler>=0.10 in /home/autumn/miniconda3/envs/py36/lib/python3.8/site-packages (from matplotlib->-r requirements.txt (line 3)) (0.12.1)\n",
      "Requirement already satisfied: fonttools>=4.22.0 in /home/autumn/miniconda3/envs/py36/lib/python3.8/site-packages (from matplotlib->-r requirements.txt (line 3)) (4.47.0)\n",
      "Requirement already satisfied: kiwisolver>=1.0.1 in /home/autumn/miniconda3/envs/py36/lib/python3.8/site-packages (from matplotlib->-r requirements.txt (line 3)) (1.4.5)\n",
      "Requirement already satisfied: pillow>=6.2.0 in /home/autumn/miniconda3/envs/py36/lib/python3.8/site-packages (from matplotlib->-r requirements.txt (line 3)) (10.1.0)\n",
      "Requirement already satisfied: pyparsing>=2.3.1 in /home/autumn/miniconda3/envs/py36/lib/python3.8/site-packages (from matplotlib->-r requirements.txt (line 3)) (3.1.1)\n",
      "Requirement already satisfied: python-dateutil>=2.7 in /home/autumn/miniconda3/envs/py36/lib/python3.8/site-packages (from matplotlib->-r requirements.txt (line 3)) (2.8.2)\n",
      "Requirement already satisfied: importlib-resources>=3.2.0 in /home/autumn/miniconda3/envs/py36/lib/python3.8/site-packages (from matplotlib->-r requirements.txt (line 3)) (6.1.1)\n",
      "Requirement already satisfied: pytz>=2020.1 in /home/autumn/miniconda3/envs/py36/lib/python3.8/site-packages (from pandas->-r requirements.txt (line 5)) (2023.3.post1)\n",
      "Requirement already satisfied: tzdata>=2022.1 in /home/autumn/miniconda3/envs/py36/lib/python3.8/site-packages (from pandas->-r requirements.txt (line 5)) (2023.3)\n",
      "Requirement already satisfied: charset-normalizer<4,>=2 in /home/autumn/miniconda3/envs/py36/lib/python3.8/site-packages (from Requests->-r requirements.txt (line 7)) (3.3.2)\n",
      "Requirement already satisfied: idna<4,>=2.5 in /home/autumn/miniconda3/envs/py36/lib/python3.8/site-packages (from Requests->-r requirements.txt (line 7)) (3.6)\n",
      "Requirement already satisfied: urllib3<3,>=1.21.1 in /home/autumn/miniconda3/envs/py36/lib/python3.8/site-packages (from Requests->-r requirements.txt (line 7)) (2.1.0)\n",
      "Requirement already satisfied: certifi>=2017.4.17 in /home/autumn/miniconda3/envs/py36/lib/python3.8/site-packages (from Requests->-r requirements.txt (line 7)) (2023.11.17)\n",
      "Requirement already satisfied: scipy>=1.5.0 in /home/autumn/miniconda3/envs/py36/lib/python3.8/site-packages (from scikit_learn->-r requirements.txt (line 8)) (1.10.1)\n",
      "Requirement already satisfied: joblib>=1.1.1 in /home/autumn/miniconda3/envs/py36/lib/python3.8/site-packages (from scikit_learn->-r requirements.txt (line 8)) (1.3.2)\n",
      "Requirement already satisfied: threadpoolctl>=2.0.0 in /home/autumn/miniconda3/envs/py36/lib/python3.8/site-packages (from scikit_learn->-r requirements.txt (line 8)) (3.2.0)\n",
      "Requirement already satisfied: cffi>=1.0 in /home/autumn/miniconda3/envs/py36/lib/python3.8/site-packages (from soundfile->-r requirements.txt (line 9)) (1.16.0)\n",
      "Requirement already satisfied: filelock in /home/autumn/miniconda3/envs/py36/lib/python3.8/site-packages (from torch->-r requirements.txt (line 10)) (3.13.1)\n",
      "Requirement already satisfied: sympy in /home/autumn/miniconda3/envs/py36/lib/python3.8/site-packages (from torch->-r requirements.txt (line 10)) (1.12)\n",
      "Requirement already satisfied: networkx in /home/autumn/miniconda3/envs/py36/lib/python3.8/site-packages (from torch->-r requirements.txt (line 10)) (3.1)\n",
      "Requirement already satisfied: jinja2 in /home/autumn/miniconda3/envs/py36/lib/python3.8/site-packages (from torch->-r requirements.txt (line 10)) (3.1.2)\n",
      "Requirement already satisfied: nvidia-cuda-nvrtc-cu12==12.1.105 in /home/autumn/miniconda3/envs/py36/lib/python3.8/site-packages (from torch->-r requirements.txt (line 10)) (12.1.105)\n",
      "Requirement already satisfied: nvidia-cuda-runtime-cu12==12.1.105 in /home/autumn/miniconda3/envs/py36/lib/python3.8/site-packages (from torch->-r requirements.txt (line 10)) (12.1.105)\n",
      "Requirement already satisfied: nvidia-cuda-cupti-cu12==12.1.105 in /home/autumn/miniconda3/envs/py36/lib/python3.8/site-packages (from torch->-r requirements.txt (line 10)) (12.1.105)\n",
      "Requirement already satisfied: nvidia-cudnn-cu12==8.9.2.26 in /home/autumn/miniconda3/envs/py36/lib/python3.8/site-packages (from torch->-r requirements.txt (line 10)) (8.9.2.26)\n",
      "Requirement already satisfied: nvidia-cublas-cu12==12.1.3.1 in /home/autumn/miniconda3/envs/py36/lib/python3.8/site-packages (from torch->-r requirements.txt (line 10)) (12.1.3.1)\n",
      "Requirement already satisfied: nvidia-cufft-cu12==11.0.2.54 in /home/autumn/miniconda3/envs/py36/lib/python3.8/site-packages (from torch->-r requirements.txt (line 10)) (11.0.2.54)\n",
      "Requirement already satisfied: nvidia-curand-cu12==10.3.2.106 in /home/autumn/miniconda3/envs/py36/lib/python3.8/site-packages (from torch->-r requirements.txt (line 10)) (10.3.2.106)\n",
      "Requirement already satisfied: nvidia-cusolver-cu12==11.4.5.107 in /home/autumn/miniconda3/envs/py36/lib/python3.8/site-packages (from torch->-r requirements.txt (line 10)) (11.4.5.107)\n",
      "Requirement already satisfied: nvidia-cusparse-cu12==12.1.0.106 in /home/autumn/miniconda3/envs/py36/lib/python3.8/site-packages (from torch->-r requirements.txt (line 10)) (12.1.0.106)\n",
      "Requirement already satisfied: nvidia-nccl-cu12==2.18.1 in /home/autumn/miniconda3/envs/py36/lib/python3.8/site-packages (from torch->-r requirements.txt (line 10)) (2.18.1)\n",
      "Requirement already satisfied: nvidia-nvtx-cu12==12.1.105 in /home/autumn/miniconda3/envs/py36/lib/python3.8/site-packages (from torch->-r requirements.txt (line 10)) (12.1.105)\n",
      "Requirement already satisfied: triton==2.1.0 in /home/autumn/miniconda3/envs/py36/lib/python3.8/site-packages (from torch->-r requirements.txt (line 10)) (2.1.0)\n",
      "Requirement already satisfied: nvidia-nvjitlink-cu12 in /home/autumn/miniconda3/envs/py36/lib/python3.8/site-packages (from nvidia-cusolver-cu12==11.4.5.107->torch->-r requirements.txt (line 10)) (12.3.101)\n",
      "Requirement already satisfied: future in /home/autumn/miniconda3/envs/py36/lib/python3.8/site-packages (from ffmpeg-python->-r requirements.txt (line 12)) (0.18.3)\n",
      "Requirement already satisfied: beautifulsoup4 in /home/autumn/miniconda3/envs/py36/lib/python3.8/site-packages (from nbconvert->-r requirements.txt (line 14)) (4.12.2)\n",
      "Requirement already satisfied: bleach!=5.0.0 in /home/autumn/miniconda3/envs/py36/lib/python3.8/site-packages (from nbconvert->-r requirements.txt (line 14)) (6.1.0)\n",
      "Requirement already satisfied: defusedxml in /home/autumn/miniconda3/envs/py36/lib/python3.8/site-packages (from nbconvert->-r requirements.txt (line 14)) (0.7.1)\n",
      "Requirement already satisfied: importlib-metadata>=3.6 in /home/autumn/miniconda3/envs/py36/lib/python3.8/site-packages (from nbconvert->-r requirements.txt (line 14)) (7.0.0)\n",
      "Requirement already satisfied: jupyter-core>=4.7 in /home/autumn/miniconda3/envs/py36/lib/python3.8/site-packages (from nbconvert->-r requirements.txt (line 14)) (5.5.0)\n",
      "Requirement already satisfied: jupyterlab-pygments in /home/autumn/miniconda3/envs/py36/lib/python3.8/site-packages (from nbconvert->-r requirements.txt (line 14)) (0.3.0)\n",
      "Requirement already satisfied: markupsafe>=2.0 in /home/autumn/miniconda3/envs/py36/lib/python3.8/site-packages (from nbconvert->-r requirements.txt (line 14)) (2.1.3)\n",
      "Requirement already satisfied: mistune<4,>=2.0.3 in /home/autumn/miniconda3/envs/py36/lib/python3.8/site-packages (from nbconvert->-r requirements.txt (line 14)) (3.0.2)\n",
      "Requirement already satisfied: nbclient>=0.5.0 in /home/autumn/miniconda3/envs/py36/lib/python3.8/site-packages (from nbconvert->-r requirements.txt (line 14)) (0.9.0)\n",
      "Requirement already satisfied: nbformat>=5.7 in /home/autumn/miniconda3/envs/py36/lib/python3.8/site-packages (from nbconvert->-r requirements.txt (line 14)) (5.9.2)\n",
      "Requirement already satisfied: pandocfilters>=1.4.1 in /home/autumn/miniconda3/envs/py36/lib/python3.8/site-packages (from nbconvert->-r requirements.txt (line 14)) (1.5.0)\n",
      "Requirement already satisfied: tinycss2 in /home/autumn/miniconda3/envs/py36/lib/python3.8/site-packages (from nbconvert->-r requirements.txt (line 14)) (1.2.1)\n",
      "Requirement already satisfied: six>=1.9.0 in /home/autumn/miniconda3/envs/py36/lib/python3.8/site-packages (from bleach!=5.0.0->nbconvert->-r requirements.txt (line 14)) (1.16.0)\n",
      "Requirement already satisfied: webencodings in /home/autumn/miniconda3/envs/py36/lib/python3.8/site-packages (from bleach!=5.0.0->nbconvert->-r requirements.txt (line 14)) (0.5.1)\n",
      "Requirement already satisfied: pycparser in /home/autumn/miniconda3/envs/py36/lib/python3.8/site-packages (from cffi>=1.0->soundfile->-r requirements.txt (line 9)) (2.21)\n",
      "Requirement already satisfied: attrs>=17.3.0 in /home/autumn/miniconda3/envs/py36/lib/python3.8/site-packages (from aiohttp->datasets->-r requirements.txt (line 1)) (23.1.0)\n",
      "Requirement already satisfied: multidict<7.0,>=4.5 in /home/autumn/miniconda3/envs/py36/lib/python3.8/site-packages (from aiohttp->datasets->-r requirements.txt (line 1)) (6.0.4)\n",
      "Requirement already satisfied: yarl<2.0,>=1.0 in /home/autumn/miniconda3/envs/py36/lib/python3.8/site-packages (from aiohttp->datasets->-r requirements.txt (line 1)) (1.9.4)\n",
      "Requirement already satisfied: frozenlist>=1.1.1 in /home/autumn/miniconda3/envs/py36/lib/python3.8/site-packages (from aiohttp->datasets->-r requirements.txt (line 1)) (1.4.0)\n",
      "Requirement already satisfied: aiosignal>=1.1.2 in /home/autumn/miniconda3/envs/py36/lib/python3.8/site-packages (from aiohttp->datasets->-r requirements.txt (line 1)) (1.3.1)\n",
      "Requirement already satisfied: async-timeout<5.0,>=4.0 in /home/autumn/miniconda3/envs/py36/lib/python3.8/site-packages (from aiohttp->datasets->-r requirements.txt (line 1)) (4.0.3)\n",
      "Requirement already satisfied: zipp>=0.5 in /home/autumn/miniconda3/envs/py36/lib/python3.8/site-packages (from importlib-metadata>=3.6->nbconvert->-r requirements.txt (line 14)) (3.17.0)\n",
      "Requirement already satisfied: parso<0.9.0,>=0.8.3 in /home/autumn/miniconda3/envs/py36/lib/python3.8/site-packages (from jedi>=0.16->IPython->-r requirements.txt (line 2)) (0.8.3)\n",
      "Requirement already satisfied: platformdirs>=2.5 in /home/autumn/miniconda3/envs/py36/lib/python3.8/site-packages (from jupyter-core>=4.7->nbconvert->-r requirements.txt (line 14)) (4.1.0)\n",
      "Requirement already satisfied: jupyter-client>=6.1.12 in /home/autumn/miniconda3/envs/py36/lib/python3.8/site-packages (from nbclient>=0.5.0->nbconvert->-r requirements.txt (line 14)) (8.6.0)\n",
      "Requirement already satisfied: fastjsonschema in /home/autumn/miniconda3/envs/py36/lib/python3.8/site-packages (from nbformat>=5.7->nbconvert->-r requirements.txt (line 14)) (2.19.0)\n",
      "Requirement already satisfied: jsonschema>=2.6 in /home/autumn/miniconda3/envs/py36/lib/python3.8/site-packages (from nbformat>=5.7->nbconvert->-r requirements.txt (line 14)) (4.20.0)\n",
      "Requirement already satisfied: ptyprocess>=0.5 in /home/autumn/miniconda3/envs/py36/lib/python3.8/site-packages (from pexpect>4.3->IPython->-r requirements.txt (line 2)) (0.7.0)\n",
      "Requirement already satisfied: wcwidth in /home/autumn/miniconda3/envs/py36/lib/python3.8/site-packages (from prompt-toolkit!=3.0.37,<3.1.0,>=3.0.30->IPython->-r requirements.txt (line 2)) (0.2.12)\n",
      "Requirement already satisfied: soupsieve>1.2 in /home/autumn/miniconda3/envs/py36/lib/python3.8/site-packages (from beautifulsoup4->nbconvert->-r requirements.txt (line 14)) (2.5)\n",
      "Requirement already satisfied: executing>=1.2.0 in /home/autumn/miniconda3/envs/py36/lib/python3.8/site-packages (from stack-data->IPython->-r requirements.txt (line 2)) (2.0.1)\n",
      "Requirement already satisfied: asttokens>=2.1.0 in /home/autumn/miniconda3/envs/py36/lib/python3.8/site-packages (from stack-data->IPython->-r requirements.txt (line 2)) (2.4.1)\n",
      "Requirement already satisfied: pure-eval in /home/autumn/miniconda3/envs/py36/lib/python3.8/site-packages (from stack-data->IPython->-r requirements.txt (line 2)) (0.2.2)\n",
      "Requirement already satisfied: mpmath>=0.19 in /home/autumn/miniconda3/envs/py36/lib/python3.8/site-packages (from sympy->torch->-r requirements.txt (line 10)) (1.3.0)\n",
      "Requirement already satisfied: jsonschema-specifications>=2023.03.6 in /home/autumn/miniconda3/envs/py36/lib/python3.8/site-packages (from jsonschema>=2.6->nbformat>=5.7->nbconvert->-r requirements.txt (line 14)) (2023.11.2)\n",
      "Requirement already satisfied: pkgutil-resolve-name>=1.3.10 in /home/autumn/miniconda3/envs/py36/lib/python3.8/site-packages (from jsonschema>=2.6->nbformat>=5.7->nbconvert->-r requirements.txt (line 14)) (1.3.10)\n",
      "Requirement already satisfied: referencing>=0.28.4 in /home/autumn/miniconda3/envs/py36/lib/python3.8/site-packages (from jsonschema>=2.6->nbformat>=5.7->nbconvert->-r requirements.txt (line 14)) (0.32.0)\n",
      "Requirement already satisfied: rpds-py>=0.7.1 in /home/autumn/miniconda3/envs/py36/lib/python3.8/site-packages (from jsonschema>=2.6->nbformat>=5.7->nbconvert->-r requirements.txt (line 14)) (0.15.2)\n",
      "Requirement already satisfied: pyzmq>=23.0 in /home/autumn/miniconda3/envs/py36/lib/python3.8/site-packages (from jupyter-client>=6.1.12->nbclient>=0.5.0->nbconvert->-r requirements.txt (line 14)) (23.0.0)\n",
      "Requirement already satisfied: tornado>=6.2 in /home/autumn/miniconda3/envs/py36/lib/python3.8/site-packages (from jupyter-client>=6.1.12->nbclient>=0.5.0->nbconvert->-r requirements.txt (line 14)) (6.3.3)\n"
     ]
    }
   ],
   "source": [
    "! pip install -r requirements.txt\n",
    "import ffmpeg"
   ]
  },
  {
   "cell_type": "code",
   "execution_count": 11,
   "metadata": {},
   "outputs": [],
   "source": [
    "ch1 = './data/codas.ch1/1+1+3/sw061b4933.flac'\n",
    "ch2 = './data/codas.ch2/1+1+3/sw061b4933.flac'\n",
    "ch2_input = ffmpeg.input('./data/codas.ch2/*.flac',pattern_type='glob')\n",
    "ch1_input = ffmpeg.input(ch1)\n",
    "stereo_output = './stereo-join.flac'\n",
    "ms_output = 'ms.flac'"
   ]
  },
  {
   "cell_type": "code",
   "execution_count": 12,
   "metadata": {},
   "outputs": [],
   "source": [
    "stereo_join_filter = ffmpeg.filter((ch1_input, ch2_input), 'join', inputs=2, channel_layout='mono').output(stereo_output, ac=1,shortest=None, vcodec='copy')\n",
    "ow = stereo_join_filter.overwrite_output()"
   ]
  },
  {
   "cell_type": "code",
   "execution_count": 13,
   "metadata": {},
   "outputs": [
    {
     "data": {
      "text/plain": [
       "overwrite_output('-y')[None] <c5dff24f5e7e>"
      ]
     },
     "execution_count": 13,
     "metadata": {},
     "output_type": "execute_result"
    }
   ],
   "source": [
    "filter_graph = ow.view(filename='filter_graph')\n",
    "filter_graph"
   ]
  },
  {
   "cell_type": "code",
   "execution_count": 14,
   "metadata": {},
   "outputs": [
    {
     "name": "stderr",
     "output_type": "stream",
     "text": [
      "ffmpeg version 4.4.2-0ubuntu0.22.04.1 Copyright (c) 2000-2021 the FFmpeg developers\n",
      "  built with gcc 11 (Ubuntu 11.2.0-19ubuntu1)\n",
      "  configuration: --prefix=/usr --extra-version=0ubuntu0.22.04.1 --toolchain=hardened --libdir=/usr/lib/x86_64-linux-gnu --incdir=/usr/include/x86_64-linux-gnu --arch=amd64 --enable-gpl --disable-stripping --enable-gnutls --enable-ladspa --enable-libaom --enable-libass --enable-libbluray --enable-libbs2b --enable-libcaca --enable-libcdio --enable-libcodec2 --enable-libdav1d --enable-libflite --enable-libfontconfig --enable-libfreetype --enable-libfribidi --enable-libgme --enable-libgsm --enable-libjack --enable-libmp3lame --enable-libmysofa --enable-libopenjpeg --enable-libopenmpt --enable-libopus --enable-libpulse --enable-librabbitmq --enable-librubberband --enable-libshine --enable-libsnappy --enable-libsoxr --enable-libspeex --enable-libsrt --enable-libssh --enable-libtheora --enable-libtwolame --enable-libvidstab --enable-libvorbis --enable-libvpx --enable-libwebp --enable-libx265 --enable-libxml2 --enable-libxvid --enable-libzimg --enable-libzmq --enable-libzvbi --enable-lv2 --enable-omx --enable-openal --enable-opencl --enable-opengl --enable-sdl2 --enable-pocketsphinx --enable-librsvg --enable-libmfx --enable-libdc1394 --enable-libdrm --enable-libiec61883 --enable-chromaprint --enable-frei0r --enable-libx264 --enable-shared\n",
      "  WARNING: library configuration mismatch\n",
      "  avcodec     configuration: --prefix=/usr --extra-version=0ubuntu0.22.04.1 --toolchain=hardened --libdir=/usr/lib/x86_64-linux-gnu --incdir=/usr/include/x86_64-linux-gnu --arch=amd64 --enable-gpl --disable-stripping --enable-gnutls --enable-ladspa --enable-libaom --enable-libass --enable-libbluray --enable-libbs2b --enable-libcaca --enable-libcdio --enable-libcodec2 --enable-libdav1d --enable-libflite --enable-libfontconfig --enable-libfreetype --enable-libfribidi --enable-libgme --enable-libgsm --enable-libjack --enable-libmp3lame --enable-libmysofa --enable-libopenjpeg --enable-libopenmpt --enable-libopus --enable-libpulse --enable-librabbitmq --enable-librubberband --enable-libshine --enable-libsnappy --enable-libsoxr --enable-libspeex --enable-libsrt --enable-libssh --enable-libtheora --enable-libtwolame --enable-libvidstab --enable-libvorbis --enable-libvpx --enable-libwebp --enable-libx265 --enable-libxml2 --enable-libxvid --enable-libzimg --enable-libzmq --enable-libzvbi --enable-lv2 --enable-omx --enable-openal --enable-opencl --enable-opengl --enable-sdl2 --enable-pocketsphinx --enable-librsvg --enable-libmfx --enable-libdc1394 --enable-libdrm --enable-libiec61883 --enable-chromaprint --enable-frei0r --enable-libx264 --enable-shared --enable-version3 --disable-doc --disable-programs --enable-libaribb24 --enable-libopencore_amrnb --enable-libopencore_amrwb --enable-libtesseract --enable-libvo_amrwbenc --enable-libsmbclient\n",
      "  libavutil      56. 70.100 / 56. 70.100\n",
      "  libavcodec     58.134.100 / 58.134.100\n",
      "  libavformat    58. 76.100 / 58. 76.100\n",
      "  libavdevice    58. 13.100 / 58. 13.100\n",
      "  libavfilter     7.110.100 /  7.110.100\n",
      "  libswscale      5.  9.100 /  5.  9.100\n",
      "  libswresample   3.  9.100 /  3.  9.100\n",
      "  libpostproc    55.  9.100 / 55.  9.100\n",
      "Input #0, flac, from './data/codas.ch1/1+1+3/sw061b4933.flac':\n",
      "  Duration: 00:00:02.90, start: 0.000000, bitrate: 268 kb/s\n",
      "  Stream #0:0: Audio: flac, 120000 Hz, mono, s16\n",
      "./data/codas.ch2/*.flac: No such file or directory\n"
     ]
    },
    {
     "ename": "Error",
     "evalue": "ffmpeg error (see stderr output for detail)",
     "output_type": "error",
     "traceback": [
      "\u001b[0;31m---------------------------------------------------------------------------\u001b[0m",
      "\u001b[0;31mError\u001b[0m                                     Traceback (most recent call last)",
      "\u001b[1;32m/home/autumn/Desktop/ceti_audio/combine_channels.ipynb Cell 7\u001b[0m line \u001b[0;36m1\n\u001b[0;32m----> <a href='vscode-notebook-cell:/home/autumn/Desktop/ceti_audio/combine_channels.ipynb#W4sZmlsZQ%3D%3D?line=0'>1</a>\u001b[0m ow\u001b[39m.\u001b[39;49mrun()\n",
      "File \u001b[0;32m~/miniconda3/envs/py36/lib/python3.8/site-packages/ffmpeg/_run.py:325\u001b[0m, in \u001b[0;36mrun\u001b[0;34m(stream_spec, cmd, capture_stdout, capture_stderr, input, quiet, overwrite_output)\u001b[0m\n\u001b[1;32m    323\u001b[0m retcode \u001b[39m=\u001b[39m process\u001b[39m.\u001b[39mpoll()\n\u001b[1;32m    324\u001b[0m \u001b[39mif\u001b[39;00m retcode:\n\u001b[0;32m--> 325\u001b[0m     \u001b[39mraise\u001b[39;00m Error(\u001b[39m'\u001b[39m\u001b[39mffmpeg\u001b[39m\u001b[39m'\u001b[39m, out, err)\n\u001b[1;32m    326\u001b[0m \u001b[39mreturn\u001b[39;00m out, err\n",
      "\u001b[0;31mError\u001b[0m: ffmpeg error (see stderr output for detail)"
     ]
    }
   ],
   "source": [
    "ow.run()"
   ]
  },
  {
   "cell_type": "code",
   "execution_count": null,
   "metadata": {},
   "outputs": [],
   "source": []
  },
  {
   "cell_type": "code",
   "execution_count": null,
   "metadata": {},
   "outputs": [],
   "source": []
  },
  {
   "cell_type": "code",
   "execution_count": null,
   "metadata": {},
   "outputs": [],
   "source": []
  }
 ],
 "metadata": {
  "kernelspec": {
   "display_name": "py36",
   "language": "python",
   "name": "python3"
  },
  "language_info": {
   "codemirror_mode": {
    "name": "ipython",
    "version": 3
   },
   "file_extension": ".py",
   "mimetype": "text/x-python",
   "name": "python",
   "nbconvert_exporter": "python",
   "pygments_lexer": "ipython3",
   "version": "3.8.18"
  }
 },
 "nbformat": 4,
 "nbformat_minor": 2
}
