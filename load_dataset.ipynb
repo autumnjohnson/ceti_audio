{
  "cells": [
    {
      "cell_type": "markdown",
      "metadata": {
        "colab_type": "text",
        "id": "view-in-github"
      },
      "source": [
        "<a href=\"https://colab.research.google.com/github/autumnjohnson/ceti_audio/blob/main/load_dataset.ipynb\" target=\"_parent\"><img src=\"https://colab.research.google.com/assets/colab-badge.svg\" alt=\"Open In Colab\"/></a>"
      ]
    },
    {
      "cell_type": "code",
      "execution_count": null,
      "metadata": {
        "id": "-2buenRWnQiq"
      },
      "outputs": [],
      "source": [
        "! git clone https://github.com/autumnjohnson/ceti_audio.git"
      ]
    },
    {
      "cell_type": "code",
      "execution_count": null,
      "metadata": {
        "id": "TN154x3int8a"
      },
      "outputs": [],
      "source": [
        "import IPython.display as ipd\n",
        "from collections import Counter\n",
        "import io\n",
        "import pandas as pd\n",
        "from librosa.util import find_files\n",
        "from datasets import Dataset, Value, Audio, Features, GeneratorBasedBuilder, BuilderConfig, Version, DatasetInfo, load_dataset\n",
        "import pyarrow as pa \n",
        "import pathlib\n",
        "from huggingface_hub import login\n",
        "import soundfile as sf\n"
      ]
    }
  ],
  "metadata": {
    "colab": {
      "authorship_tag": "ABX9TyMD4eLEYorOw7CAfRHZRt3O",
      "include_colab_link": true,
      "private_outputs": true,
      "provenance": []
    },
    "kernelspec": {
      "display_name": "Python 3",
      "name": "python3"
    },
    "language_info": {
      "name": "python"
    }
  },
  "nbformat": 4,
  "nbformat_minor": 0
}
